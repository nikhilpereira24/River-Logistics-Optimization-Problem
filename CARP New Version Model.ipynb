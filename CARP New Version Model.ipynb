{
 "cells": [
  {
   "cell_type": "code",
   "execution_count": 1,
   "metadata": {},
   "outputs": [],
   "source": [
    "from gurobipy import *\n",
    "# Import everything needed\n",
    "from itertools import *\n",
    "import numpy as np\n",
    "from numpy import genfromtxt\n",
    "import matplotlib.pyplot as plt\n",
    "import string\n",
    "#import random\n",
    "import pandas\n",
    "import time\n",
    "import datagenerator\n",
    "import math\n",
    "import networkx as nx\n",
    "import seaborn as sns\n",
    "import warnings\n",
    "warnings.filterwarnings(\"ignore\")"
   ]
  },
  {
   "cell_type": "code",
   "execution_count": 5,
   "metadata": {},
   "outputs": [
    {
     "ename": "NameError",
     "evalue": "name 'gurobi_cl' is not defined",
     "output_type": "error",
     "traceback": [
      "\u001b[1;31m---------------------------------------------------------------------------\u001b[0m",
      "\u001b[1;31mNameError\u001b[0m                                 Traceback (most recent call last)",
      "\u001b[1;32m<ipython-input-5-a818782cd0ce>\u001b[0m in \u001b[0;36m<module>\u001b[1;34m\u001b[0m\n\u001b[1;32m----> 1\u001b[1;33m \u001b[0mgurobi_cl\u001b[0m\u001b[1;33m\u001b[0m\u001b[1;33m\u001b[0m\u001b[0m\n\u001b[0m",
      "\u001b[1;31mNameError\u001b[0m: name 'gurobi_cl' is not defined"
     ]
    }
   ],
   "source": [
    "gurobi_cl"
   ]
  },
  {
   "cell_type": "code",
   "execution_count": 3,
   "metadata": {},
   "outputs": [
    {
     "name": "stdout",
     "output_type": "stream",
     "text": [
      "[[79 32]\n",
      " [94 45]\n",
      " [88 94]]\n",
      "[[ 0 19 62]\n",
      " [19  0 49]\n",
      " [62 49  0]]\n",
      "[[ 0 35 47]\n",
      " [35  0 80]\n",
      " [47 80  0]]\n",
      "[[ 0 85 19]\n",
      " [85  0 66]\n",
      " [19 66  0]]\n"
     ]
    }
   ],
   "source": [
    "n = 3\n",
    "#distance, demand, cost\n",
    "seeds = [5,30,25]\n",
    "datagenerator.saveData(n,seeds[0],seeds[1],seeds[2])\n",
    "locations = genfromtxt('LocationsCARP.csv', delimiter=',').astype(int)\n",
    "demand = genfromtxt('DemandCARP.csv', delimiter=',').astype(int)\n",
    "cost = genfromtxt('CostCARP.csv', delimiter=',').astype(int)\n",
    "distance = genfromtxt('DistancesCARP.csv', delimiter=',').astype(int)\n",
    "print(locations)\n",
    "print(distance)\n",
    "print(demand)\n",
    "print(cost)"
   ]
  },
  {
   "cell_type": "code",
   "execution_count": 99,
   "metadata": {},
   "outputs": [],
   "source": [
    "def getTrashType(n):\n",
    "    x = 3\n",
    "    P = 0.2\n",
    "    b = np.random.choice([0,1], size=(x,x), p=[P, 1-P])\n",
    "    bsymm = b.T * b\n",
    "    return bsymm\n",
    "T1 = getTrashType(n=3)\n",
    "T2 = getTrashType(n=3)"
   ]
  },
  {
   "cell_type": "code",
   "execution_count": 101,
   "metadata": {},
   "outputs": [],
   "source": [
    "t1q = T1*demand\n",
    "t2q = T2*distance"
   ]
  },
  {
   "cell_type": "code",
   "execution_count": 102,
   "metadata": {},
   "outputs": [
    {
     "data": {
      "text/plain": [
       "array([[ 0, 35, 47],\n",
       "       [35,  0,  0],\n",
       "       [47,  0,  0]])"
      ]
     },
     "execution_count": 102,
     "metadata": {},
     "output_type": "execute_result"
    }
   ],
   "source": [
    "t1q"
   ]
  },
  {
   "cell_type": "code",
   "execution_count": 103,
   "metadata": {},
   "outputs": [
    {
     "data": {
      "text/plain": [
       "array([[ 0, 19,  0],\n",
       "       [19,  0, 49],\n",
       "       [ 0, 49,  0]])"
      ]
     },
     "execution_count": 103,
     "metadata": {},
     "output_type": "execute_result"
    }
   ],
   "source": [
    "t2q"
   ]
  },
  {
   "cell_type": "markdown",
   "metadata": {},
   "source": [
    "### CARP Model Formulation"
   ]
  },
  {
   "cell_type": "code",
   "execution_count": 125,
   "metadata": {},
   "outputs": [
    {
     "name": "stdout",
     "output_type": "stream",
     "text": [
      "Optimize a model with 102 rows, 54 columns and 244 nonzeros\n",
      "Variable types: 18 continuous, 36 integer (36 binary)\n",
      "Coefficient statistics:\n",
      "  Matrix range     [1e+00, 5e+01]\n",
      "  Objective range  [2e+01, 6e+01]\n",
      "  Bounds range     [1e+00, 1e+00]\n",
      "  RHS range        [1e+00, 3e+02]\n",
      "Found heuristic solution: objective 396.0000000\n",
      "Presolve removed 86 rows and 36 columns\n",
      "Presolve time: 0.00s\n",
      "Presolved: 16 rows, 18 columns, 50 nonzeros\n",
      "Found heuristic solution: objective 266.0000000\n",
      "Variable types: 6 continuous, 12 integer (12 binary)\n",
      "\n",
      "Root relaxation: objective 1.857516e+02, 11 iterations, 0.00 seconds\n",
      "\n",
      "    Nodes    |    Current Node    |     Objective Bounds      |     Work\n",
      " Expl Unexpl |  Obj  Depth IntInf | Incumbent    BestBd   Gap | It/Node Time\n",
      "\n",
      "     0     0  185.75163    0    7  266.00000  185.75163  30.2%     -    0s\n",
      "     0     0  231.55556    0    5  266.00000  231.55556  12.9%     -    0s\n",
      "H    0     0                     260.0000000  231.55556  10.9%     -    0s\n",
      "     0     0     cutoff    0       260.00000  260.00000  0.00%     -    0s\n",
      "\n",
      "Cutting planes:\n",
      "  Gomory: 1\n",
      "  Cover: 3\n",
      "  Clique: 1\n",
      "  MIR: 1\n",
      "  Flow cover: 3\n",
      "\n",
      "Explored 1 nodes (18 simplex iterations) in 0.04 seconds\n",
      "Thread count was 4 (of 4 available processors)\n",
      "\n",
      "Solution count 2: 260 266 \n",
      "\n",
      "Optimal solution found (tolerance 1.00e-04)\n",
      "Best objective 2.600000000000e+02, best bound 2.600000000000e+02, gap 0.0000%\n"
     ]
    }
   ],
   "source": [
    "# Create a new model\n",
    "m = Model(\"Capacitated Arc Routing Problem New Version\")\n",
    "\n",
    "# Create set\n",
    "N = list(range(len(locations))) # Number of Nodes (5)\n",
    "K = [0,1] #Vehicles or postmans (3)\n",
    "FN = N[1:] #Set needed for Flow Variables\n",
    "\n",
    "# Parameters\n",
    "#Cij is the distance matrix\n",
    "c = distance\n",
    "Q = {0:t1q,1:t2q}\n",
    "Pt={0:[1,0],1:[1,1]} # Trash type 0 can picked up by Vechicle 1, Trash type 1 can be picked up by Vehicle 1 and Vehicle 2\n",
    "T = [0,1]\n",
    "\n",
    "# Capacity of All the Vehicles\n",
    "W = [125,250] #How do we determine capacity of vehicle?\n",
    "\n",
    "\n",
    "# Create variables\n",
    "xijp = m.addVars(N,N,K,vtype=GRB.BINARY,name=\"xijp\") # = 1 if arc (i,j) of is traversed by vehicle k, 0 otherwise\n",
    "lijp = m.addVars(N,N,K,vtype=GRB.BINARY,name=\"lijp\") # = 1 if vehicle k services arc (i,j) 0 otherwise\n",
    "fijp = m.addVars(N,N,K,vtype=GRB.CONTINUOUS,name=\"fijp\") # is a flow variable which can take on positive values only if xjip = 1\n",
    "\n",
    "\n",
    "\n",
    "# Set objective\n",
    "#This objective function models the pairs of teams times the individual distance to the rival team\n",
    "m.setObjective(sum(c[i][j]*xijp[i,j,p] for i in N for j in N for p in K), GRB.MINIMIZE)\n",
    "\n",
    "# Add constraint: \n",
    "m.addConstrs((sum(xijp[j,i,p] for j in N)-sum(xijp[i,j,p] for j in N)==0 for i in N for p in K), \"Route Continuity\")\n",
    "              \n",
    "m.addConstrs((sum(lijp[i,j,p]*Pt[t][p] + lijp[j,i,p]*Pt[t][p] for p in K)>=math.ceil(Q[t][i][j]/W[p]) for i in N for j in N for p in K for t in T), 'Each Arc with Positive Demand is Served Exactly Once') \n",
    "               \n",
    "m.addConstrs((xijp[i,j,p] >= lijp[i,j,p] for i in N for j in N for p in K), \"guarantee that arc (i, j) can be serviced by vehicle p only if he covers arc (i,j) of type t\")\n",
    "               \n",
    "m.addConstrs((sum(lijp[i,j,p]*Q[t][i][j] for i in N for j in N for t in T)<= W[p] for p in K), \"Vehicle capacity\")\n",
    "               \n",
    "m.addConstrs((sum(fijp[i,j,p] for j in N)-sum(fijp[j,i,p] for j in N)==sum(lijp[i,j,p] for j in N)for i in FN for p in K), \"Constraint 6\")\n",
    "               \n",
    "m.addConstrs((fijp[i,j,p] <= n**2*xijp[i,j,p] for i in N for j in N for p in K), \"Constraint 6 Extended\")\n",
    "               \n",
    "m.addConstrs((fijp[i,j,p] >= 0 for i in N for j in N for p in K), \"Non-Negativity Constraint\")\n",
    "\n",
    "# Optimize model\n",
    "m.optimize()\n"
   ]
  },
  {
   "cell_type": "markdown",
   "metadata": {},
   "source": [
    "### Model Solution"
   ]
  },
  {
   "cell_type": "code",
   "execution_count": 126,
   "metadata": {},
   "outputs": [],
   "source": [
    "vars = m.getVars()\n",
    "gurobi_solution = {v.Varname : v.x for v in vars}\n",
    "#gurobi_solution"
   ]
  },
  {
   "cell_type": "code",
   "execution_count": 127,
   "metadata": {},
   "outputs": [
    {
     "data": {
      "text/html": [
       "<style  type=\"text/css\" >\n",
       "</style><table id=\"T_6af43518_1ed7_11eb_b078_bc8385d0cbbb\" ><caption>XIJP Where Vehicle P Traverses Edge I,J</caption><thead>    <tr>        <th class=\"blank level0\" ></th>        <th class=\"col_heading level0 col0\" >Node I</th>        <th class=\"col_heading level0 col1\" >Node J</th>        <th class=\"col_heading level0 col2\" >Vehicle P</th>    </tr></thead><tbody>\n",
       "                <tr>\n",
       "                        <th id=\"T_6af43518_1ed7_11eb_b078_bc8385d0cbbblevel0_row0\" class=\"row_heading level0 row0\" >2</th>\n",
       "                        <td id=\"T_6af43518_1ed7_11eb_b078_bc8385d0cbbbrow0_col0\" class=\"data row0 col0\" >0</td>\n",
       "                        <td id=\"T_6af43518_1ed7_11eb_b078_bc8385d0cbbbrow0_col1\" class=\"data row0 col1\" >2</td>\n",
       "                        <td id=\"T_6af43518_1ed7_11eb_b078_bc8385d0cbbbrow0_col2\" class=\"data row0 col2\" >0</td>\n",
       "            </tr>\n",
       "            <tr>\n",
       "                        <th id=\"T_6af43518_1ed7_11eb_b078_bc8385d0cbbblevel0_row1\" class=\"row_heading level0 row1\" >4</th>\n",
       "                        <td id=\"T_6af43518_1ed7_11eb_b078_bc8385d0cbbbrow1_col0\" class=\"data row1 col0\" >1</td>\n",
       "                        <td id=\"T_6af43518_1ed7_11eb_b078_bc8385d0cbbbrow1_col1\" class=\"data row1 col1\" >0</td>\n",
       "                        <td id=\"T_6af43518_1ed7_11eb_b078_bc8385d0cbbbrow1_col2\" class=\"data row1 col2\" >0</td>\n",
       "            </tr>\n",
       "            <tr>\n",
       "                        <th id=\"T_6af43518_1ed7_11eb_b078_bc8385d0cbbblevel0_row2\" class=\"row_heading level0 row2\" >8</th>\n",
       "                        <td id=\"T_6af43518_1ed7_11eb_b078_bc8385d0cbbbrow2_col0\" class=\"data row2 col0\" >2</td>\n",
       "                        <td id=\"T_6af43518_1ed7_11eb_b078_bc8385d0cbbbrow2_col1\" class=\"data row2 col1\" >1</td>\n",
       "                        <td id=\"T_6af43518_1ed7_11eb_b078_bc8385d0cbbbrow2_col2\" class=\"data row2 col2\" >0</td>\n",
       "            </tr>\n",
       "            <tr>\n",
       "                        <th id=\"T_6af43518_1ed7_11eb_b078_bc8385d0cbbblevel0_row3\" class=\"row_heading level0 row3\" >3</th>\n",
       "                        <td id=\"T_6af43518_1ed7_11eb_b078_bc8385d0cbbbrow3_col0\" class=\"data row3 col0\" >0</td>\n",
       "                        <td id=\"T_6af43518_1ed7_11eb_b078_bc8385d0cbbbrow3_col1\" class=\"data row3 col1\" >2</td>\n",
       "                        <td id=\"T_6af43518_1ed7_11eb_b078_bc8385d0cbbbrow3_col2\" class=\"data row3 col2\" >1</td>\n",
       "            </tr>\n",
       "            <tr>\n",
       "                        <th id=\"T_6af43518_1ed7_11eb_b078_bc8385d0cbbblevel0_row4\" class=\"row_heading level0 row4\" >5</th>\n",
       "                        <td id=\"T_6af43518_1ed7_11eb_b078_bc8385d0cbbbrow4_col0\" class=\"data row4 col0\" >1</td>\n",
       "                        <td id=\"T_6af43518_1ed7_11eb_b078_bc8385d0cbbbrow4_col1\" class=\"data row4 col1\" >0</td>\n",
       "                        <td id=\"T_6af43518_1ed7_11eb_b078_bc8385d0cbbbrow4_col2\" class=\"data row4 col2\" >1</td>\n",
       "            </tr>\n",
       "            <tr>\n",
       "                        <th id=\"T_6af43518_1ed7_11eb_b078_bc8385d0cbbblevel0_row5\" class=\"row_heading level0 row5\" >9</th>\n",
       "                        <td id=\"T_6af43518_1ed7_11eb_b078_bc8385d0cbbbrow5_col0\" class=\"data row5 col0\" >2</td>\n",
       "                        <td id=\"T_6af43518_1ed7_11eb_b078_bc8385d0cbbbrow5_col1\" class=\"data row5 col1\" >1</td>\n",
       "                        <td id=\"T_6af43518_1ed7_11eb_b078_bc8385d0cbbbrow5_col2\" class=\"data row5 col2\" >1</td>\n",
       "            </tr>\n",
       "    </tbody></table>"
      ],
      "text/plain": [
       "<pandas.io.formats.style.Styler at 0x274fd9275c0>"
      ]
     },
     "execution_count": 127,
     "metadata": {},
     "output_type": "execute_result"
    }
   ],
   "source": [
    "filtered_dict = {k:v for k,v in gurobi_solution.items() if 'xijp' in k}\n",
    "filtered_dict = {k:v for k,v in filtered_dict.items() if v == 1}\n",
    "new = filtered_dict.keys()\n",
    "new = [x.strip('xijp') for x in new]\n",
    "new = [x.strip('][').split(', ') for x in new]\n",
    "new = [x[0].split(\",\") for x in new]\n",
    "dfXijp = pandas.DataFrame(new, columns = ['Node I', 'Node J', 'Vehicle P']).sort_values('Vehicle P',ascending=True) \n",
    "dfXijp = dfXijp[dfXijp['Node I'] != dfXijp['Node J']]\n",
    "out1 = dfXijp.style.set_caption(\"XIJP Where Vehicle P Traverses Edge I,J\")\n",
    "out1"
   ]
  },
  {
   "cell_type": "code",
   "execution_count": 128,
   "metadata": {},
   "outputs": [
    {
     "data": {
      "text/html": [
       "<style  type=\"text/css\" >\n",
       "</style><table id=\"T_6b4916f6_1ed7_11eb_905d_bc8385d0cbbb\" ><caption>LIJP Where Vehicle P Services Edge I,J</caption><thead>    <tr>        <th class=\"blank level0\" ></th>        <th class=\"col_heading level0 col0\" >Node I</th>        <th class=\"col_heading level0 col1\" >Node J</th>        <th class=\"col_heading level0 col2\" >Vehicle P</th>    </tr></thead><tbody>\n",
       "                <tr>\n",
       "                        <th id=\"T_6b4916f6_1ed7_11eb_905d_bc8385d0cbbblevel0_row0\" class=\"row_heading level0 row0\" >0</th>\n",
       "                        <td id=\"T_6b4916f6_1ed7_11eb_905d_bc8385d0cbbbrow0_col0\" class=\"data row0 col0\" >0</td>\n",
       "                        <td id=\"T_6b4916f6_1ed7_11eb_905d_bc8385d0cbbbrow0_col1\" class=\"data row0 col1\" >2</td>\n",
       "                        <td id=\"T_6b4916f6_1ed7_11eb_905d_bc8385d0cbbbrow0_col2\" class=\"data row0 col2\" >0</td>\n",
       "            </tr>\n",
       "            <tr>\n",
       "                        <th id=\"T_6b4916f6_1ed7_11eb_905d_bc8385d0cbbblevel0_row1\" class=\"row_heading level0 row1\" >1</th>\n",
       "                        <td id=\"T_6b4916f6_1ed7_11eb_905d_bc8385d0cbbbrow1_col0\" class=\"data row1 col0\" >1</td>\n",
       "                        <td id=\"T_6b4916f6_1ed7_11eb_905d_bc8385d0cbbbrow1_col1\" class=\"data row1 col1\" >0</td>\n",
       "                        <td id=\"T_6b4916f6_1ed7_11eb_905d_bc8385d0cbbbrow1_col2\" class=\"data row1 col2\" >0</td>\n",
       "            </tr>\n",
       "            <tr>\n",
       "                        <th id=\"T_6b4916f6_1ed7_11eb_905d_bc8385d0cbbblevel0_row2\" class=\"row_heading level0 row2\" >2</th>\n",
       "                        <td id=\"T_6b4916f6_1ed7_11eb_905d_bc8385d0cbbbrow2_col0\" class=\"data row2 col0\" >2</td>\n",
       "                        <td id=\"T_6b4916f6_1ed7_11eb_905d_bc8385d0cbbbrow2_col1\" class=\"data row2 col1\" >1</td>\n",
       "                        <td id=\"T_6b4916f6_1ed7_11eb_905d_bc8385d0cbbbrow2_col2\" class=\"data row2 col2\" >1</td>\n",
       "            </tr>\n",
       "    </tbody></table>"
      ],
      "text/plain": [
       "<pandas.io.formats.style.Styler at 0x274fd927518>"
      ]
     },
     "execution_count": 128,
     "metadata": {},
     "output_type": "execute_result"
    }
   ],
   "source": [
    "filtered_dict = {k:v for k,v in gurobi_solution.items() if 'lijp' in k}\n",
    "filtered_dict = {k:v for k,v in filtered_dict.items() if v == 1}\n",
    "new = filtered_dict.keys()\n",
    "new = [x.strip('lijp') for x in new]\n",
    "new = [x.strip('][').split(', ') for x in new]\n",
    "new = [x[0].split(\",\") for x in new]\n",
    "dfLijp = pandas.DataFrame(new, columns = ['Node I', 'Node J', 'Vehicle P']).sort_values('Vehicle P',ascending=True) \n",
    "out = dfLijp.style.set_caption(\"LIJP Where Vehicle P Services Edge I,J\")\n",
    "out"
   ]
  },
  {
   "cell_type": "markdown",
   "metadata": {},
   "source": [
    "### Objective Value"
   ]
  },
  {
   "cell_type": "code",
   "execution_count": 129,
   "metadata": {},
   "outputs": [
    {
     "name": "stdout",
     "output_type": "stream",
     "text": [
      "Objective Value of VRP: 260\n"
     ]
    }
   ],
   "source": [
    "print('Objective Value of VRP: %g' % m.objVal)"
   ]
  },
  {
   "cell_type": "code",
   "execution_count": 130,
   "metadata": {},
   "outputs": [],
   "source": [
    "def getEdges(TrashType):   \n",
    "    TrashType = TrashType\n",
    "    dfloc = pandas.DataFrame(locations,columns=['X','YCoor'])\n",
    "    dfloc['Node'] = dfloc.index\n",
    "    newDict={}\n",
    "    for x in dfloc.index:\n",
    "        newDict.update({dfloc['Node'][x]:np.array([dfloc['X'][x],dfloc['YCoor'][x]])})\n",
    "    output = [[a, b] for a in N \n",
    "              for b in N] \n",
    "    edgeWeight = {}\n",
    "    for n in range(len(output)):\n",
    "        edgeWeight[tuple(output[n])]=Q[TrashType][output[n][0]][output[n][1]]\n",
    "    filteredEdge = {k:v for k,v in edgeWeight.items() if v != 0}\n",
    "    return [filteredEdge,edgeWeight,output,newDict]\n",
    "def getGraph(path_edges,serviceDict,color,filteredEdge,output,newDict):\n",
    "    edges = output\n",
    "    G = nx.Graph()\n",
    "    G.add_edges_from(edges)\n",
    "    pos = newDict  \n",
    "    path_edges = path_edges\n",
    "    nx.draw_networkx_edges(G,pos,edgelist=path_edges,edge_color=color,width=3)\n",
    "    nx.draw(G,pos,edge_color='black',width=1,linewidths=1,\\\n",
    "        node_size=500,node_color='orange',alpha=0.9,\\\n",
    "        labels={node:node for node in G.nodes()})\n",
    "    nx.draw_networkx_edge_labels(G,pos,edge_labels=filteredEdge,font_color='black')\n",
    "    nx.draw_networkx_edge_labels(G,pos,edge_labels=serviceDict,font_color='black',bbox=dict(color=color,alpha=0.2))\n",
    "    return G\n",
    "def getPathEdges(Vehicle):\n",
    "    l1 = list(dfXijp[dfXijp['Vehicle P']==Vehicle]['Node I'].map(int))\n",
    "    l2 = list(dfXijp[dfXijp['Vehicle P']==Vehicle]['Node J'].map(int))\n",
    "    l3 = list(zip(l1,l2))\n",
    "    return l3\n",
    "def getServiceEdges(Vehicle):\n",
    "    l1 = list(dfLijp[dfLijp['Vehicle P']==Vehicle]['Node I'].map(int))\n",
    "    l2 = list(dfLijp[dfLijp['Vehicle P']==Vehicle]['Node J'].map(int))\n",
    "    l3 = list(zip(l1,l2))\n",
    "    return l3\n",
    "def getRunningSum(TrashType):\n",
    "    runningSum = 0\n",
    "    formatted = np.triu(Q[TrashType],0)\n",
    "    for x in formatted:\n",
    "        for y in x:\n",
    "            runningSum = runningSum + y\n",
    "    return runningSum"
   ]
  },
  {
   "cell_type": "markdown",
   "metadata": {},
   "source": [
    "# Trash Type 0 Vehicle 0 - Can be picked up V0"
   ]
  },
  {
   "cell_type": "code",
   "execution_count": 131,
   "metadata": {},
   "outputs": [
    {
     "name": "stdout",
     "output_type": "stream",
     "text": [
      "Serviced Edges by Vehicle: 0: [(0, 2), (1, 0)]\n",
      "Path Edges by Vehicle 0: [(0, 2), (1, 0), (2, 1)]\n",
      "Total Weight Met by Vehicle 0: 82 out of 82 for trash type: 0\n",
      "Percentage of Weight met by Vehicle: 0: 100.0 for trash type: 0\n"
     ]
    },
    {
     "data": {
      "image/png": "[encoded data removed]",
      "text/plain": [
       "<Figure size 432x288 with 1 Axes>"
      ]
     },
     "metadata": {},
     "output_type": "display_data"
    }
   ],
   "source": [
    "trashnum = 0\n",
    "plotList = []\n",
    "x=220\n",
    "# for trashnum in trashList:\n",
    "Vehicle = '0'\n",
    "servicedList = getServiceEdges(Vehicle)\n",
    "print(\"Serviced Edges by Vehicle: \" + Vehicle +\": \" + str(servicedList))\n",
    "path_edges = getPathEdges(Vehicle)\n",
    "print(\"Path Edges by Vehicle \" + Vehicle + \": \" + str(path_edges))\n",
    "vehicleSum0 = 0\n",
    "tupEdges = getEdges(trashnum)\n",
    "edgeWeight = tupEdges[1]\n",
    "filteredEdge = tupEdges[0]\n",
    "output = tupEdges[2]\n",
    "newDict = tupEdges[3]\n",
    "for key in edgeWeight:\n",
    "    if key in servicedList:\n",
    "        vehicleSum0 = vehicleSum0 + edgeWeight[key]\n",
    "serviceDict = {}\n",
    "color = {'0':'r','1':'b','2':'g'}\n",
    "for (key, value) in filteredEdge.items():\n",
    "    if key in servicedList:\n",
    "        serviceDict[key] = value\n",
    "getGraph(path_edges,serviceDict,color[Vehicle],filteredEdge,output,newDict)\n",
    "print(\"Total Weight Met by Vehicle \" + Vehicle + \": \" + str(vehicleSum0) + \" out of \" + str(getRunningSum(trashnum)) + \" for trash type: \" + str(trashnum))\n",
    "print(\"Percentage of Weight met by Vehicle: \" + str(Vehicle) + \": \" + str((vehicleSum0/getRunningSum(trashnum))*100) + \" for trash type: \" + str(trashnum))"
   ]
  },
  {
   "cell_type": "markdown",
   "metadata": {},
   "source": [
    "# Trash Type 0 Vehicle 1 - Cannot Be Picked by V1"
   ]
  },
  {
   "cell_type": "code",
   "execution_count": 132,
   "metadata": {},
   "outputs": [
    {
     "name": "stdout",
     "output_type": "stream",
     "text": [
      "Serviced Edges by Vehicle: 1: [(2, 1)]\n",
      "Path Edges by Vehicle 1: [(0, 2), (1, 0), (2, 1)]\n",
      "Total Weight Met by Vehicle 1: 0 out of 82 for trash type: 0\n",
      "Percentage of Weight met by Vehicle: 1: 0.0 for trash type: 0\n"
     ]
    },
    {
     "data": {
      "image/png": "[encoded data removed]",
      "text/plain": [
       "<Figure size 432x288 with 1 Axes>"
      ]
     },
     "metadata": {},
     "output_type": "display_data"
    }
   ],
   "source": [
    "trashnum = 0\n",
    "plotList = []\n",
    "x=220\n",
    "# for trashnum in trashList:\n",
    "Vehicle = '1'\n",
    "servicedList = getServiceEdges(Vehicle)\n",
    "print(\"Serviced Edges by Vehicle: \" + Vehicle +\": \" + str(servicedList))\n",
    "path_edges = getPathEdges(Vehicle)\n",
    "print(\"Path Edges by Vehicle \" + Vehicle + \": \" + str(path_edges))\n",
    "vehicleSum0 = 0\n",
    "tupEdges = getEdges(trashnum)\n",
    "edgeWeight = tupEdges[1]\n",
    "filteredEdge = tupEdges[0]\n",
    "output = tupEdges[2]\n",
    "newDict = tupEdges[3]\n",
    "for key in edgeWeight:\n",
    "    if key in servicedList:\n",
    "        vehicleSum0 = vehicleSum0 + edgeWeight[key]\n",
    "serviceDict = {}\n",
    "color = {'0':'r','1':'b','2':'g'}\n",
    "for (key, value) in filteredEdge.items():\n",
    "    if key in servicedList:\n",
    "        serviceDict[key] = value\n",
    "getGraph(path_edges,serviceDict,color[Vehicle],filteredEdge,output,newDict)\n",
    "print(\"Total Weight Met by Vehicle \" + Vehicle + \": \" + str(vehicleSum0) + \" out of \" + str(getRunningSum(trashnum)) + \" for trash type: \" + str(trashnum))\n",
    "print(\"Percentage of Weight met by Vehicle: \" + str(Vehicle) + \": \" + str((vehicleSum0/getRunningSum(trashnum))*100) + \" for trash type: \" + str(trashnum))"
   ]
  },
  {
   "cell_type": "markdown",
   "metadata": {},
   "source": [
    "# Trash Type 1 Vehicle 0 - Can be Picked up by V0"
   ]
  },
  {
   "cell_type": "code",
   "execution_count": 133,
   "metadata": {},
   "outputs": [
    {
     "name": "stdout",
     "output_type": "stream",
     "text": [
      "Serviced Edges by Vehicle: 0: [(0, 2), (1, 0)]\n",
      "Path Edges by Vehicle 0: [(0, 2), (1, 0), (2, 1)]\n",
      "Total Weight Met by Vehicle 0: 19 out of 68 for trash type: 1\n",
      "Percentage of Weight met by Vehicle: 0: 27.941176470588236 for trash type: 1\n"
     ]
    },
    {
     "data": {
      "image/png": "[encoded data removed]",
      "text/plain": [
       "<Figure size 432x288 with 1 Axes>"
      ]
     },
     "metadata": {},
     "output_type": "display_data"
    }
   ],
   "source": [
    "trashnum = 1\n",
    "plotList = []\n",
    "x=220\n",
    "# for trashnum in trashList:\n",
    "Vehicle = '0'\n",
    "servicedList = getServiceEdges(Vehicle)\n",
    "print(\"Serviced Edges by Vehicle: \" + Vehicle +\": \" + str(servicedList))\n",
    "path_edges = getPathEdges(Vehicle)\n",
    "print(\"Path Edges by Vehicle \" + Vehicle + \": \" + str(path_edges))\n",
    "vehicleSum0 = 0\n",
    "tupEdges = getEdges(trashnum)\n",
    "edgeWeight = tupEdges[1]\n",
    "filteredEdge = tupEdges[0]\n",
    "output = tupEdges[2]\n",
    "newDict = tupEdges[3]\n",
    "for key in edgeWeight:\n",
    "    if key in servicedList:\n",
    "        vehicleSum0 = vehicleSum0 + edgeWeight[key]\n",
    "serviceDict = {}\n",
    "color = {'0':'r','1':'b','2':'g'}\n",
    "for (key, value) in filteredEdge.items():\n",
    "    if key in servicedList:\n",
    "        serviceDict[key] = value\n",
    "getGraph(path_edges,serviceDict,color[Vehicle],filteredEdge,output,newDict)\n",
    "print(\"Total Weight Met by Vehicle \" + Vehicle + \": \" + str(vehicleSum0) + \" out of \" + str(getRunningSum(trashnum)) + \" for trash type: \" + str(trashnum))\n",
    "print(\"Percentage of Weight met by Vehicle: \" + str(Vehicle) + \": \" + str((vehicleSum0/getRunningSum(trashnum))*100) + \" for trash type: \" + str(trashnum))"
   ]
  },
  {
   "cell_type": "markdown",
   "metadata": {},
   "source": [
    "# Trash Type 1 Vehicle 1 - Can be picked by Vehicle 1"
   ]
  },
  {
   "cell_type": "code",
   "execution_count": 134,
   "metadata": {},
   "outputs": [
    {
     "name": "stdout",
     "output_type": "stream",
     "text": [
      "Serviced Edges by Vehicle: 1: [(2, 1)]\n",
      "Path Edges by Vehicle 1: [(0, 2), (1, 0), (2, 1)]\n",
      "Total Weight Met by Vehicle 1: 49 out of 68 for trash type: 1\n",
      "Percentage of Weight met by Vehicle: 1: 72.05882352941177 for trash type: 1\n"
     ]
    },
    {
     "data": {
      "image/png": "[encoded data removed]",
      "text/plain": [
       "<Figure size 432x288 with 1 Axes>"
      ]
     },
     "metadata": {},
     "output_type": "display_data"
    }
   ],
   "source": [
    "trashnum = 1\n",
    "plotList = []\n",
    "x=220\n",
    "# for trashnum in trashList:\n",
    "Vehicle = '1'\n",
    "servicedList = getServiceEdges(Vehicle)\n",
    "print(\"Serviced Edges by Vehicle: \" + Vehicle +\": \" + str(servicedList))\n",
    "path_edges = getPathEdges(Vehicle)\n",
    "print(\"Path Edges by Vehicle \" + Vehicle + \": \" + str(path_edges))\n",
    "vehicleSum0 = 0\n",
    "tupEdges = getEdges(trashnum)\n",
    "edgeWeight = tupEdges[1]\n",
    "filteredEdge = tupEdges[0]\n",
    "output = tupEdges[2]\n",
    "newDict = tupEdges[3]\n",
    "for key in edgeWeight:\n",
    "    if key in servicedList:\n",
    "        vehicleSum0 = vehicleSum0 + edgeWeight[key]\n",
    "serviceDict = {}\n",
    "color = {'0':'r','1':'b','2':'g'}\n",
    "for (key, value) in filteredEdge.items():\n",
    "    if key in servicedList:\n",
    "        serviceDict[key] = value\n",
    "getGraph(path_edges,serviceDict,color[Vehicle],filteredEdge,output,newDict)\n",
    "print(\"Total Weight Met by Vehicle \" + Vehicle + \": \" + str(vehicleSum0) + \" out of \" + str(getRunningSum(trashnum)) + \" for trash type: \" + str(trashnum))\n",
    "print(\"Percentage of Weight met by Vehicle: \" + str(Vehicle) + \": \" + str((vehicleSum0/getRunningSum(trashnum))*100) + \" for trash type: \" + str(trashnum))"
   ]
  },
  {
   "cell_type": "code",
   "execution_count": 86,
   "metadata": {},
   "outputs": [
    {
     "name": "stdout",
     "output_type": "stream",
     "text": [
      "Warning: constraint name \"Route Continuity[0,0]\" has a space\n"
     ]
    }
   ],
   "source": [
    " m.write(\"Solution.lp\")"
   ]
  },
  {
   "cell_type": "code",
   "execution_count": null,
   "metadata": {},
   "outputs": [],
   "source": []
  }
 ],
 "metadata": {
  "kernelspec": {
   "display_name": "Python 3",
   "language": "python",
   "name": "python3"
  },
  "language_info": {
   "codemirror_mode": {
    "name": "ipython",
    "version": 3
   },
   "file_extension": ".py",
   "mimetype": "text/x-python",
   "name": "python",
   "nbconvert_exporter": "python",
   "pygments_lexer": "ipython3",
   "version": "3.7.3"
  }
 },
 "nbformat": 4,
 "nbformat_minor": 2
}
